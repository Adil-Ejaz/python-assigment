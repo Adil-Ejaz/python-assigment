{
 "cells": [
  {
   "cell_type": "code",
   "execution_count": 2,
   "metadata": {},
   "outputs": [
    {
     "name": "stdout",
     "output_type": "stream",
     "text": [
      "Input a number to compute the factiorial : 3\n",
      "6\n"
     ]
    }
   ],
   "source": [
    "#Q1\n",
    "\n",
    "def factorial(n):\n",
    "    if n == 0:\n",
    "        return 1\n",
    "    else:\n",
    "        return n * factorial(n-1)\n",
    "n=int(input(\"Input a number to compute the factiorial : \"))\n",
    "print(factorial(n))"
   ]
  },
  {
   "cell_type": "code",
   "execution_count": 3,
   "metadata": {},
   "outputs": [
    {
     "name": "stdout",
     "output_type": "stream",
     "text": [
      "Original String :  This is Adil Ejaz\n",
      "No. of Upper case characters :  3\n",
      "No. of Lower case Characters :  11\n"
     ]
    }
   ],
   "source": [
    "#Q2\n",
    "\n",
    "def string_test(s):\n",
    "    d={\"UPPER_CASE\":0, \"LOWER_CASE\":0}\n",
    "    for c in s:\n",
    "        if c.isupper():\n",
    "           d[\"UPPER_CASE\"]+=1\n",
    "        elif c.islower():\n",
    "           d[\"LOWER_CASE\"]+=1\n",
    "        else:\n",
    "           pass\n",
    "    print (\"Original String : \", s)\n",
    "    print (\"No. of Upper case characters : \", d[\"UPPER_CASE\"])\n",
    "    print (\"No. of Lower case Characters : \", d[\"LOWER_CASE\"])\n",
    "\n",
    "string_test('This is Adil Ejaz')"
   ]
  },
  {
   "cell_type": "code",
   "execution_count": 5,
   "metadata": {},
   "outputs": [
    {
     "name": "stdout",
     "output_type": "stream",
     "text": [
      "6 8 44 94 "
     ]
    }
   ],
   "source": [
    "#Q3\n",
    "\n",
    "list1 = [6, 8, 11, 44, 63, 94] \n",
    " \n",
    "for num in list1: \n",
    "      \n",
    "    # checking condition \n",
    "    if num % 2 == 0: \n",
    "       print(num, end = \" \") "
   ]
  },
  {
   "cell_type": "code",
   "execution_count": 15,
   "metadata": {},
   "outputs": [
    {
     "name": "stdout",
     "output_type": "stream",
     "text": [
      "enter input:madam\n",
      "Yes\n"
     ]
    }
   ],
   "source": [
    "#Q4\n",
    "\n",
    "def reverse(s): \n",
    "    return s[::-1] \n",
    "  \n",
    "def isPalindrome(s): \n",
    "   \n",
    "    rev = reverse(s) \n",
    "   \n",
    "    if (s == rev): \n",
    "        return True\n",
    "    return False\n",
    "  \n",
    "  \n",
    "# Driver code \n",
    "s = input (\"enter input:\")\n",
    "ans = isPalindrome(s) \n",
    "  \n",
    "if ans == 1: \n",
    "    print(\"Yes\") \n",
    "else: \n",
    "    print(\"No\") "
   ]
  },
  {
   "cell_type": "code",
   "execution_count": 19,
   "metadata": {},
   "outputs": [
    {
     "name": "stdout",
     "output_type": "stream",
     "text": [
      "True\n"
     ]
    }
   ],
   "source": [
    "#Q5\n",
    "\n",
    "def test_prime(num):\n",
    "    if (num==1):\n",
    "        return False\n",
    "    elif (num==2):\n",
    "        return True;\n",
    "    else:\n",
    "        for x in range(2, num):\n",
    "            if(num % x==0):\n",
    "                return False\n",
    "        return True             \n",
    "print(test_prime(5))"
   ]
  },
  {
   "cell_type": "code",
   "execution_count": 20,
   "metadata": {},
   "outputs": [
    {
     "name": "stdout",
     "output_type": "stream",
     "text": [
      "item Milk\n",
      "item Sugar\n",
      "item Rise\n",
      "item egg\n"
     ]
    }
   ],
   "source": [
    "#Q6\n",
    "\n",
    "def mart(*grocery):\n",
    "   \n",
    "     for name in grocery:\n",
    "       print(\"item\",name)\n",
    "\n",
    "mart(\"Milk\",\"Sugar\",\"Rise\",\"egg\")"
   ]
  },
  {
   "cell_type": "code",
   "execution_count": null,
   "metadata": {},
   "outputs": [],
   "source": []
  }
 ],
 "metadata": {
  "kernelspec": {
   "display_name": "Python 3",
   "language": "python",
   "name": "python3"
  },
  "language_info": {
   "codemirror_mode": {
    "name": "ipython",
    "version": 3
   },
   "file_extension": ".py",
   "mimetype": "text/x-python",
   "name": "python",
   "nbconvert_exporter": "python",
   "pygments_lexer": "ipython3",
   "version": "3.7.4"
  }
 },
 "nbformat": 4,
 "nbformat_minor": 2
}
