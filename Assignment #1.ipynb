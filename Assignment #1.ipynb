{
 "cells": [
  {
   "cell_type": "code",
   "execution_count": 1,
   "metadata": {},
   "outputs": [
    {
     "name": "stdout",
     "output_type": "stream",
     "text": [
      "Twinkle, twinkle, little star, \n",
      " \t How I wonder what you are! \n",
      " \t \t Up above the world so high,\n",
      " \t \t Like a diamond in the sky.\n",
      "Twinkle, twinkle, little star,\n",
      "\t How I wonder what you are\n"
     ]
    }
   ],
   "source": [
    "#Q1.\n",
    "#Ans\n",
    "print (\"Twinkle, twinkle, little star, \\n \\t How I wonder what you are! \\n \\t \\t Up above the world so high,\\n \\t \\t Like a diamond in the sky.\\nTwinkle, twinkle, little star,\\n\\t How I wonder what you are\")  \n"
   ]
  },
  {
   "cell_type": "code",
   "execution_count": 2,
   "metadata": {},
   "outputs": [
    {
     "name": "stdout",
     "output_type": "stream",
     "text": [
      "Python version: 3.7.4 (default, Aug  9 2019, 18:34:13) [MSC v.1915 64 bit (AMD64)]\n"
     ]
    }
   ],
   "source": [
    "#Q2.\n",
    "#Ans\n",
    "\n",
    "import sys\n",
    "print(\"Python version:\",sys.version)\n",
    "\n"
   ]
  },
  {
   "cell_type": "code",
   "execution_count": 3,
   "metadata": {},
   "outputs": [
    {
     "name": "stdout",
     "output_type": "stream",
     "text": [
      "Current date and time:  2019-11-04 11:11:11.795434\n"
     ]
    }
   ],
   "source": [
    "#Q3.\n",
    "#Ans\n",
    "\n",
    "import datetime\n",
    "print(\"Current date and time: \" , datetime.datetime.now())\n"
   ]
  },
  {
   "cell_type": "code",
   "execution_count": 4,
   "metadata": {},
   "outputs": [
    {
     "name": "stdout",
     "output_type": "stream",
     "text": [
      " Please Enter the radius of a circle: 3.2\n",
      " Area Of a Circle = 32.153600000000004\n"
     ]
    }
   ],
   "source": [
    "#Q4.\n",
    "#Ans\n",
    "\n",
    "PI = 3.14\n",
    "radius = float(input(' Please Enter the radius of a circle: '))\n",
    "area = PI * radius * radius\n",
    "print(\" Area Of a Circle =\",area)\n"
   ]
  },
  {
   "cell_type": "code",
   "execution_count": 8,
   "metadata": {},
   "outputs": [
    {
     "name": "stdout",
     "output_type": "stream",
     "text": [
      "Enter first name = adil\n",
      "Enter last name = ejaz\n",
      "lida zaje\n"
     ]
    }
   ],
   "source": [
    "#Q5.\n",
    "#Ans\n",
    "\n",
    "name = input(\"Enter first name = \")\n",
    "last = input(\"Enter last name = \")\n",
    "rvname = name[::-1]\n",
    "rvlast = last[::-1]\n",
    "print(rvname, rvlast)\n"
   ]
  },
  {
   "cell_type": "code",
   "execution_count": 9,
   "metadata": {},
   "outputs": [
    {
     "name": "stdout",
     "output_type": "stream",
     "text": [
      "plz enter number1 =12\n",
      "plz enter number2 =12\n",
      "Sum = 24\n"
     ]
    }
   ],
   "source": [
    "#Q6.\n",
    "#Ans\n",
    "\n",
    "num1= int(input(\"plz enter number1 =\"))\n",
    "num2=int (input(\"plz enter number2 =\"))\n",
    "sum= (num1) + (num2)\n",
    "\n",
    "print (\"Sum =\",sum)\n"
   ]
  },
  {
   "cell_type": "code",
   "execution_count": null,
   "metadata": {},
   "outputs": [],
   "source": []
  }
 ],
 "metadata": {
  "kernelspec": {
   "display_name": "Python 3",
   "language": "python",
   "name": "python3"
  },
  "language_info": {
   "codemirror_mode": {
    "name": "ipython",
    "version": 3
   },
   "file_extension": ".py",
   "mimetype": "text/x-python",
   "name": "python",
   "nbconvert_exporter": "python",
   "pygments_lexer": "ipython3",
   "version": "3.7.4"
  }
 },
 "nbformat": 4,
 "nbformat_minor": 2
}
