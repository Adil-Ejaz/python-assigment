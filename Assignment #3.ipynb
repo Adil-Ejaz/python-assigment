{
 "cells": [
  {
   "cell_type": "code",
   "execution_count": 1,
   "metadata": {},
   "outputs": [
    {
     "name": "stdout",
     "output_type": "stream",
     "text": [
      "Please select operation: \n",
      " 1. Add \n",
      " 2. Subtract \n",
      " 3. Multiply \n",
      " 4. Divide \n",
      " 5. Power \n",
      "  \n",
      "Select operations form 1, 2, 3, 4, 5 :2\n",
      "Enter first number: 5\n",
      "Enter second number: 4\n",
      "5 - 4 = 1\n"
     ]
    }
   ],
   "source": [
    "#Question 1.\n",
    "\n",
    "\n",
    "print(\"Please select operation: \\n 1. Add \\n 2. Subtract \\n 3. Multiply \\n 4. Divide \\n 5. Power \\n  \")\n",
    "\n",
    "select = input(\"Select operations form 1, 2, 3, 4, 5: \")\n",
    "number_1 = int(input(\"Enter first number: \"))\n",
    "number_2 = int(input(\"Enter second number: \"))\n",
    " \n",
    "if select == '1':\n",
    "   result = number_1 + number_2\n",
    "   print(number_1, \"+\", number_2, \"=\", result)\n",
    " \n",
    "elif select == '2':\n",
    "   result = number_1 - number_2\n",
    "   print(number_1, \"-\", number_2, \"=\",result)\n",
    " \n",
    "elif select == '3':\n",
    "   result = number_1 * number_2\n",
    "   print(number_1, \"*\", number_2, \"=\",result)\n",
    " \n",
    "elif select == '4':\n",
    "   result = number_1 / number_2\n",
    "   print(number_1, \"/\", number_2, \"=\",result)\n",
    "\n",
    "\n",
    "elif select == '5':\n",
    "   result = number_1 ** number_2\n",
    "   print(number_1, \"^\", number_2, \"=\",result)\n",
    "\n",
    "else:\n",
    "   print(\"Invalid input\")"
   ]
  },
  {
   "cell_type": "code",
   "execution_count": 3,
   "metadata": {},
   "outputs": [
    {
     "name": "stdout",
     "output_type": "stream",
     "text": [
      "It's Numeric Value\n",
      "It's Numeric Value\n",
      "It's Not Numeric Value\n",
      "It's Not Numeric Value\n",
      "It's Numeric Value\n"
     ]
    }
   ],
   "source": [
    "# Question 2.\n",
    "\n",
    "\n",
    "n = [8, 4, 'Karachi' ,'Pakistan',2.1]\n",
    "for num in n :\n",
    "    if type(num) == int or type(num) == float:\n",
    "        print(\"It's Numeric Value\")\n",
    "    else:\n",
    "        print(\"It's Not Numeric Value\")"
   ]
  },
  {
   "cell_type": "code",
   "execution_count": 4,
   "metadata": {},
   "outputs": [
    {
     "name": "stdout",
     "output_type": "stream",
     "text": [
      "Before Addition  {'FirstName': 'Adil', 'LastName': 'Ejaz'}\n",
      "After  Addition  {'FirstName': 'Adil', 'LastName': 'Ejaz', 'Address': 'Gulshan'}\n"
     ]
    }
   ],
   "source": [
    "# Question 3.\n",
    "\n",
    "\n",
    "di = {\"FirstName\" : \"Adil\" ,\"LastName\": \"Ejaz\"}\n",
    "print(\"Before Addition \",di)\n",
    "di[\"Address\"] = \"Gulshan\"\n",
    "print(\"After  Addition \",di)"
   ]
  },
  {
   "cell_type": "code",
   "execution_count": 6,
   "metadata": {},
   "outputs": [
    {
     "name": "stdout",
     "output_type": "stream",
     "text": [
      "23\n"
     ]
    }
   ],
   "source": [
    "# Question 4.\n",
    "\n",
    "sum_di = {'num1':10,'num2':-7,'num3':9,'num4':11}\n",
    "print(sum(sum_di.values()))"
   ]
  },
  {
   "cell_type": "code",
   "execution_count": 7,
   "metadata": {},
   "outputs": [
    {
     "name": "stdout",
     "output_type": "stream",
     "text": [
      "Duplicates Are  20\n",
      "Duplicates Are  21\n",
      "Duplicates Are  -40\n"
     ]
    }
   ],
   "source": [
    "# Question 5.\n",
    "\n",
    "\n",
    "a = [20, 21,-40, 15, 20, 34, 57, 0,11,21,-40]\n",
    "for x in range(0,len(a)):\n",
    "    for y in range(x+1, len(a)):\n",
    "        if (a[x]) == a[y]:\n",
    "            print(\"Duplicates Are \",a[y])"
   ]
  },
  {
   "cell_type": "code",
   "execution_count": 8,
   "metadata": {},
   "outputs": [
    {
     "name": "stdout",
     "output_type": "stream",
     "text": [
      "Enter key to check only capital latter allow from A to Z:A\n",
      "Key is already exists and value of the key is: 1\n"
     ]
    }
   ],
   "source": [
    "# Question 6.\n",
    "\n",
    "d={'A':1,'B':2,'C':3}\n",
    "key=input(\"Enter key to check only capital latter allow from A to Z:\")\n",
    "if key in d.keys():\n",
    "      print(\"Key is already exists and value of the key is:\",d[key])\n",
    "      #print(d[key])\n",
    "else:\n",
    "      print(\"Key isn't exits!\")"
   ]
  },
  {
   "cell_type": "code",
   "execution_count": null,
   "metadata": {},
   "outputs": [],
   "source": []
  },
  {
   "cell_type": "code",
   "execution_count": null,
   "metadata": {},
   "outputs": [],
   "source": []
  }
 ],
 "metadata": {
  "kernelspec": {
   "display_name": "Python 3",
   "language": "python",
   "name": "python3"
  },
  "language_info": {
   "codemirror_mode": {
    "name": "ipython",
    "version": 3
   },
   "file_extension": ".py",
   "mimetype": "text/x-python",
   "name": "python",
   "nbconvert_exporter": "python",
   "pygments_lexer": "ipython3",
   "version": "3.7.4"
  }
 },
 "nbformat": 4,
 "nbformat_minor": 2
}
