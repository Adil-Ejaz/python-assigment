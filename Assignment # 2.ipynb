{
 "cells": [
  {
   "cell_type": "code",
   "execution_count": 1,
   "metadata": {},
   "outputs": [
    {
     "name": "stdout",
     "output_type": "stream",
     "text": [
      "Please Enter sub1 Marks= :55\n",
      "Please Enter sub2 Marks = :55\n",
      "Please Enter sub3 Marks= :55\n",
      "Please Enter sub4 Marks = :60\n",
      "Please Enter sub5 Marks= :56\n",
      "Your Grade is C+\n"
     ]
    }
   ],
   "source": [
    "#Assignment # 2\n",
    "#Q1   \n",
    "    \n",
    "    mark1 = int(input(\"Please Enter sub1 Marks= :\"));\n",
    "    mark2 = int(input(\"Please Enter sub2 Marks = :\"));\n",
    "    mark3 = int(input(\"Please Enter sub3 Marks= :\"));\n",
    "    mark4 = int(input(\"Please Enter sub4 Marks = :\"));\n",
    "    mark5 = int(input(\"Please Enter sub5 Marks= :\"));\n",
    "    sum = mark1 + mark2 + mark3 + mark4 + mark5;\n",
    "    average = sum/5;\n",
    "    if(average>=91 and average<=100):\n",
    "     print(\"Your Grade is A+\");\n",
    "    elif(average>=81 and average<=90):\n",
    "     print(\"Your Grade is A\");\n",
    "    elif(average>=71 and average<=80):\n",
    "     print(\"Your Grade is B+\");\n",
    "    elif(average>=61 and average<=70):\n",
    "     print(\"Your Grade is B\");\n",
    "    elif(average>=51 and average<=60):\n",
    "     print(\"Your Grade is C+\");\n",
    "    elif(average>=41 and average<=50):\n",
    "     print(\"Your Grade is C\");\n",
    "    elif(average>=0 and average<=40):\n",
    "     print(\"Your Grade is F\");\n",
    "    else:\n",
    "     print(\"Strange Grade..!!\");"
   ]
  },
  {
   "cell_type": "code",
   "execution_count": 29,
   "metadata": {},
   "outputs": [
    {
     "name": "stdout",
     "output_type": "stream",
     "text": [
      "Enter a number: 12\n",
      "This is an even number.\n"
     ]
    }
   ],
   "source": [
    "#Q2\n",
    "\n",
    "num = int(input(\"Enter a number: \"))\n",
    "mod = num % 2\n",
    "if mod > 0:\n",
    " print(\"This is an odd number\")\n",
    "else:\n",
    "  print(\"This is an even number.\")\n"
   ]
  },
  {
   "cell_type": "code",
   "execution_count": 33,
   "metadata": {},
   "outputs": [
    {
     "name": "stdout",
     "output_type": "stream",
     "text": [
      "9\n"
     ]
    }
   ],
   "source": [
    "#Q3\n",
    "\n",
    "List=[1,2,3,4,5,8,10,20,50,5]\n",
    "length_of_list = len(List)\n",
    "print (length_of_list)"
   ]
  },
  {
   "cell_type": "code",
   "execution_count": 20,
   "metadata": {},
   "outputs": [
    {
     "name": "stdout",
     "output_type": "stream",
     "text": [
      "17\n"
     ]
    }
   ],
   "source": [
    "#Q4\n",
    "\n",
    "def sum_list(items):\n",
    "    sum_numbers = 0\n",
    "    for x in items:\n",
    "        sum_numbers += x\n",
    "    return sum_numbers\n",
    "print(sum_list([1,2,8,6]))\n",
    "  "
   ]
  },
  {
   "cell_type": "code",
   "execution_count": 2,
   "metadata": {},
   "outputs": [
    {
     "name": "stdout",
     "output_type": "stream",
     "text": [
      "Largest element is: 120\n"
     ]
    }
   ],
   "source": [
    "#Q5\n",
    "\n",
    "list1 = [10, 20, 4, 45, 99,120] \n",
    "\n",
    "print(\"Largest element is:\", max(list1)) "
   ]
  },
  {
   "cell_type": "code",
   "execution_count": 17,
   "metadata": {},
   "outputs": [
    {
     "name": "stdout",
     "output_type": "stream",
     "text": [
      "1\n",
      "1\n",
      "2\n",
      "3\n"
     ]
    }
   ],
   "source": [
    "#Q6\n",
    "\n",
    "a = [1,1,2,3,5,6,13,21,34,55,89]\n",
    "\n",
    "def print_less_than_five():\n",
    " for i in range(len(a)):\n",
    "\n",
    "    if a[i]<5: \n",
    "            print(a[i]) \n",
    "print_less_than_five()"
   ]
  },
  {
   "cell_type": "code",
   "execution_count": 12,
   "metadata": {},
   "outputs": [
    {
     "name": "stdout",
     "output_type": "stream",
     "text": [
      "\n"
     ]
    }
   ],
   "source": []
  },
  {
   "cell_type": "code",
   "execution_count": 13,
   "metadata": {},
   "outputs": [
    {
     "name": "stdout",
     "output_type": "stream",
     "text": [
      "\n"
     ]
    }
   ],
   "source": []
  },
  {
   "cell_type": "code",
   "execution_count": null,
   "metadata": {},
   "outputs": [],
   "source": []
  }
 ],
 "metadata": {
  "kernelspec": {
   "display_name": "Python 3",
   "language": "python",
   "name": "python3"
  },
  "language_info": {
   "codemirror_mode": {
    "name": "ipython",
    "version": 3
   },
   "file_extension": ".py",
   "mimetype": "text/x-python",
   "name": "python",
   "nbconvert_exporter": "python",
   "pygments_lexer": "ipython3",
   "version": "3.7.4"
  }
 },
 "nbformat": 4,
 "nbformat_minor": 2
}
